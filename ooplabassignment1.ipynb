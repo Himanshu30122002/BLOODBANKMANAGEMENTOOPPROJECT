{
  "nbformat": 4,
  "nbformat_minor": 0,
  "metadata": {
    "colab": {
      "name": "ooplabassignment1.ipynb",
      "provenance": [],
      "toc_visible": true,
      "authorship_tag": "ABX9TyOG4PFmD7jOuJfgktPCxlvb",
      "include_colab_link": true
    },
    "kernelspec": {
      "name": "python3",
      "display_name": "Python 3"
    },
    "language_info": {
      "name": "python"
    }
  },
  "cells": [
    {
      "cell_type": "markdown",
      "metadata": {
        "id": "view-in-github",
        "colab_type": "text"
      },
      "source": [
        "<a href=\"https://colab.research.google.com/github/Himanshu30122002/BLOODBANKMANAGEMENTOOPPROJECT/blob/main/ooplabassignment1.ipynb\" target=\"_parent\"><img src=\"https://colab.research.google.com/assets/colab-badge.svg\" alt=\"Open In Colab\"/></a>"
      ]
    },
    {
      "cell_type": "markdown",
      "metadata": {
        "id": "1-rCyOn9yTqC"
      },
      "source": [
        ""
      ]
    },
    {
      "cell_type": "code",
      "metadata": {
        "colab": {
          "base_uri": "https://localhost:8080/"
        },
        "id": "B_xGz_Bo2OPA",
        "outputId": "72eed853-e4b9-4910-9c11-61ebd33c85a0"
      },
      "source": [
        "# question 1\n",
        "print(\"Enter the year\")\n",
        "year = int(input())\n",
        "if year % 400 == 0 or year % 100 != 0 and year % 4 == 0:\n",
        "    print(\"year is a leap year\")\n",
        "    print(\"TRUE\")\n",
        "else:\n",
        "    print(\"not a leap year\")\n",
        "    print(\"FALSE\")\n"
      ],
      "execution_count": null,
      "outputs": [
        {
          "output_type": "stream",
          "name": "stdout",
          "text": [
            "Enter the year\n",
            "2020\n",
            "year is a leap year\n",
            "TRUE\n"
          ]
        }
      ]
    },
    {
      "cell_type": "code",
      "metadata": {
        "colab": {
          "base_uri": "https://localhost:8080/"
        },
        "id": "htmdkqj444c_",
        "outputId": "cdb0ce9b-cf8b-4d59-bc1e-d96178da0c35"
      },
      "source": [
        "#question 2\n",
        "n = int(input())\n",
        "if n%2 !=0:\n",
        "  print(\"weird\")\n",
        "if n%2 == 0 and n>=2 and n<5:\n",
        "  print(\"not weird\")\n",
        "if n%2 ==0 and n>=6 and n<=20 :\n",
        "  print(\"weird\")\n",
        "if n%2 ==0 and  n>20:\n",
        "  print(\"not weird\")  \n",
        "\n",
        "     \n",
        "\n",
        " "
      ],
      "execution_count": null,
      "outputs": [
        {
          "output_type": "stream",
          "name": "stdout",
          "text": [
            "28\n",
            "not weird\n"
          ]
        }
      ]
    },
    {
      "cell_type": "code",
      "metadata": {
        "id": "E2scPwlaG642",
        "colab": {
          "base_uri": "https://localhost:8080/"
        },
        "outputId": "bb812e44-bdfa-4625-fdc2-f49d4b504b3c"
      },
      "source": [
        "#question 5\n",
        "print(\"Enter the basic pay\")\n",
        "BP = int(input())  # bp = basic pay\n",
        "DA = 40*BP/100\n",
        "HRA = 20*BP/100\n",
        "GP = BP + DA + HRA   #gross pay is sum of basic pay , DA,HRA\n",
        "print(\"the gross pay of the employee is \",GP)\n"
      ],
      "execution_count": 1,
      "outputs": [
        {
          "output_type": "stream",
          "name": "stdout",
          "text": [
            "Enter the basic pay\n",
            "2000\n",
            "the gross pay of the employee is  3200.0\n"
          ]
        }
      ]
    },
    {
      "cell_type": "code",
      "metadata": {
        "id": "MbqWmDOM_Tqc"
      },
      "source": [
        "# question 3\n",
        "def fashionable_late(arrivals, name):\n",
        "    order = arrivals.index(name)\n",
        "    return order >= len(arrivals) / 2 and order != len(arrivals) - 1\n",
        "    guest = ['hardik', 'virat', 'rahul', 'rishab', 'mahi', 'roht', 'rahane']\n",
        "    name = 'rishab'\n",
        "    index = guest.index(name)\n",
        "\n",
        "\n",
        "def f(x):\n",
        "    if index >= len(party) / 2 and index != len(party) - 1:\n",
        "        return True\n",
        "    else:\n",
        "        return False\n"
      ],
      "execution_count": 2,
      "outputs": []
    },
    {
      "cell_type": "code",
      "metadata": {
        "colab": {
          "base_uri": "https://localhost:8080/"
        },
        "id": "-NQ48Z2aHit3",
        "outputId": "e9ebcf65-18bd-4283-bf5d-fadf086f8fa0"
      },
      "source": [
        "#question 4\n",
        "def find_word(docs, keyw):\n",
        "        for i, doc in enumerate(docs):\n",
        "            words = doc.lower().split()\n",
        "            if keyw in words:\n",
        "               print(doc, words.index(keyw))\n",
        "find_word(['the college is closed','everything is CLOSED in corona','nothing'],'closed')"
      ],
      "execution_count": 7,
      "outputs": [
        {
          "output_type": "stream",
          "name": "stdout",
          "text": [
            "the college is closed 3\n",
            "everything is CLOSED in corona 2\n"
          ]
        }
      ]
    }
  ]
}